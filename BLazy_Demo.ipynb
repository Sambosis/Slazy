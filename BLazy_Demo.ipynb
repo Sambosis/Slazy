{
 "cells": [
  {
   "cell_type": "markdown",
   "metadata": {},
   "source": [
    "# BLazy Project Demonstration\n",
    "\n",
    "This notebook demonstrates the capabilities of the BLazy project, an agentic LLM-powered automation system.\n",
    "\n",
    "## Setup and Installation"
   ]
  },
  {
   "cell_type": "code",
   "execution_count": 2,
   "metadata": {},
   "outputs": [
    {
     "name": "stdout",
     "output_type": "stream",
     "text": [
      "Defaulting to user installation because normal site-packages is not writeable\n",
      "Requirement already satisfied: openai in c:\\users\\machine81\\appdata\\roaming\\python\\python312\\site-packages (1.60.2)\n",
      "Requirement already satisfied: python-dotenv in c:\\users\\machine81\\appdata\\roaming\\python\\python312\\site-packages (1.0.1)\n",
      "Requirement already satisfied: requests in c:\\users\\machine81\\appdata\\roaming\\python\\python312\\site-packages (2.32.3)\n",
      "Requirement already satisfied: pandas in c:\\users\\machine81\\appdata\\roaming\\python\\python312\\site-packages (2.1.4)\n",
      "Requirement already satisfied: numpy in c:\\users\\machine81\\appdata\\roaming\\python\\python312\\site-packages (1.26.2)\n",
      "Requirement already satisfied: anyio<5,>=3.5.0 in c:\\users\\machine81\\appdata\\roaming\\python\\python312\\site-packages (from openai) (4.8.0)\n",
      "Requirement already satisfied: distro<2,>=1.7.0 in c:\\programdata\\anaconda3\\lib\\site-packages (from openai) (1.9.0)\n",
      "Requirement already satisfied: httpx<1,>=0.23.0 in c:\\users\\machine81\\appdata\\roaming\\python\\python312\\site-packages (from openai) (0.27.2)\n",
      "Requirement already satisfied: jiter<1,>=0.4.0 in c:\\users\\machine81\\appdata\\roaming\\python\\python312\\site-packages (from openai) (0.6.1)\n",
      "Requirement already satisfied: pydantic<3,>=1.9.0 in c:\\users\\machine81\\appdata\\roaming\\python\\python312\\site-packages (from openai) (2.10.5)\n",
      "Requirement already satisfied: sniffio in c:\\programdata\\anaconda3\\lib\\site-packages (from openai) (1.3.0)\n",
      "Requirement already satisfied: tqdm>4 in c:\\programdata\\anaconda3\\lib\\site-packages (from openai) (4.66.4)\n",
      "Requirement already satisfied: typing-extensions<5,>=4.11 in c:\\users\\machine81\\appdata\\roaming\\python\\python312\\site-packages (from openai) (4.12.2)\n",
      "Requirement already satisfied: charset-normalizer<4,>=2 in c:\\users\\machine81\\appdata\\roaming\\python\\python312\\site-packages (from requests) (3.4.0)\n",
      "Requirement already satisfied: idna<4,>=2.5 in c:\\programdata\\anaconda3\\lib\\site-packages (from requests) (3.7)\n",
      "Requirement already satisfied: urllib3<3,>=1.21.1 in c:\\programdata\\anaconda3\\lib\\site-packages (from requests) (2.2.2)\n",
      "Requirement already satisfied: certifi>=2017.4.17 in c:\\users\\machine81\\appdata\\roaming\\python\\python312\\site-packages (from requests) (2024.8.30)\n",
      "Requirement already satisfied: python-dateutil>=2.8.2 in c:\\users\\machine81\\appdata\\roaming\\python\\python312\\site-packages (from pandas) (2.9.0.post0)\n",
      "Requirement already satisfied: pytz>=2020.1 in c:\\users\\machine81\\appdata\\roaming\\python\\python312\\site-packages (from pandas) (2024.2)\n",
      "Requirement already satisfied: tzdata>=2022.1 in c:\\users\\machine81\\appdata\\roaming\\python\\python312\\site-packages (from pandas) (2024.2)\n",
      "Requirement already satisfied: httpcore==1.* in c:\\users\\machine81\\appdata\\roaming\\python\\python312\\site-packages (from httpx<1,>=0.23.0->openai) (1.0.6)\n",
      "Requirement already satisfied: h11<0.15,>=0.13 in c:\\users\\machine81\\appdata\\roaming\\python\\python312\\site-packages (from httpcore==1.*->httpx<1,>=0.23.0->openai) (0.14.0)\n",
      "Requirement already satisfied: annotated-types>=0.6.0 in c:\\programdata\\anaconda3\\lib\\site-packages (from pydantic<3,>=1.9.0->openai) (0.6.0)\n",
      "Requirement already satisfied: pydantic-core==2.27.2 in c:\\users\\machine81\\appdata\\roaming\\python\\python312\\site-packages (from pydantic<3,>=1.9.0->openai) (2.27.2)\n",
      "Requirement already satisfied: six>=1.5 in c:\\users\\machine81\\appdata\\roaming\\python\\python312\\site-packages (from python-dateutil>=2.8.2->pandas) (1.16.0)\n",
      "Requirement already satisfied: colorama in c:\\programdata\\anaconda3\\lib\\site-packages (from tqdm>4->openai) (0.4.6)\n"
     ]
    },
    {
     "name": "stderr",
     "output_type": "stream",
     "text": [
      "WARNING: Skipping C:\\ProgramData\\anaconda3\\Lib\\site-packages\\conda-24.5.0.dist-info due to invalid metadata entry 'name'\n",
      "WARNING: Skipping C:\\ProgramData\\anaconda3\\Lib\\site-packages\\conda-24.5.0.dist-info due to invalid metadata entry 'name'\n",
      "WARNING: Skipping C:\\ProgramData\\anaconda3\\Lib\\site-packages\\conda-24.5.0.dist-info due to invalid metadata entry 'name'\n",
      "WARNING: Skipping C:\\ProgramData\\anaconda3\\Lib\\site-packages\\conda-24.5.0.dist-info due to invalid metadata entry 'name'\n"
     ]
    }
   ],
   "source": [
    "# Install required packages\n",
    "!pip install openai python-dotenv requests pandas numpy\n"
   ]
  },
  {
   "cell_type": "markdown",
   "metadata": {},
   "source": [
    "## Environment Configuration\n",
    "\n",
    "First, we need to set up our environment and import the necessary modules from the BLazy project."
   ]
  },
  {
   "cell_type": "code",
   "execution_count": 4,
   "metadata": {},
   "outputs": [],
   "source": [
    "import os\n",
    "import sys\n",
    "\n",
    "# Add the BLazy directory to the Python path\n",
    "blazy_path = os.path.join(os.path.dirname(os.getcwd()), 'BLazy')\n",
    "sys.path.append(blazy_path)\n",
    "\n",
    "# Import required modules from BLazy\n",
    "from tools import *\n",
    "from loop_live import *\n"
   ]
  },
  {
   "cell_type": "markdown",
   "metadata": {},
   "source": [
    "## Setting Up Environment Variables\n",
    "\n",
    "The BLazy project requires certain environment variables to be set, particularly for API keys. Create a .env file with your API keys or set them directly here:"
   ]
  },
  {
   "cell_type": "code",
   "execution_count": 5,
   "metadata": {},
   "outputs": [
    {
     "name": "stdout",
     "output_type": "stream",
     "text": [
      "All required environment variables are set!\n"
     ]
    }
   ],
   "source": [
    "import dotenv\n",
    "\n",
    "# Load environment variables from .env file if it exists\n",
    "dotenv.load_dotenv()\n",
    "\n",
    "# Verify that required environment variables are set\n",
    "required_vars = ['OPENAI_API_KEY']\n",
    "missing_vars = [var for var in required_vars if not os.getenv(var)]\n",
    "\n",
    "if missing_vars:\n",
    "    print(f\"Warning: The following environment variables are missing: {', '.join(missing_vars)}\")\n",
    "else:\n",
    "    print(\"All required environment variables are set!\")\n"
   ]
  },
  {
   "cell_type": "markdown",
   "metadata": {},
   "source": [
    "## Exploring Available Tools\n",
    "\n",
    "The BLazy project comes with various tools located in the tools directory. Let's explore what's available:"
   ]
  },
  {
   "cell_type": "code",
   "execution_count": 6,
   "metadata": {},
   "outputs": [
    {
     "name": "stdout",
     "output_type": "stream",
     "text": [
      "Available tools:\n",
      "- base.py\n",
      "- bash copy.py\n",
      "- bash.py\n",
      "- collection.py\n",
      "- edit.py\n",
      "- envsetup.py\n",
      "- expert.py\n",
      "- function_schema.py\n",
      "- get_serp.py\n",
      "- gotourl_reports.py\n",
      "- main.py\n",
      "- playwright.py\n",
      "- run.py\n",
      "- venvsetup.py\n",
      "- windows_navigation.py\n",
      "- write_code.py\n"
     ]
    }
   ],
   "source": [
    "# List all available tools\n",
    "tools_dir = os.path.join(blazy_path, 'tools')\n",
    "available_tools = [f for f in os.listdir(tools_dir) if f.endswith('.py') and f != '__init__.py']\n",
    "print(\"Available tools:\")\n",
    "for tool in available_tools:\n",
    "    print(f\"- {tool}\")\n"
   ]
  },
  {
   "cell_type": "markdown",
   "metadata": {},
   "source": [
    "## Basic Agent Interaction\n",
    "\n",
    "Let's demonstrate how to interact with the BLazy agent system:"
   ]
  },
  {
   "cell_type": "code",
   "execution_count": 7,
   "metadata": {},
   "outputs": [
    {
     "ename": "ImportError",
     "evalue": "cannot import name 'initialize_agent' from 'loop_live' (c:\\mygit\\BLazy\\loop_live.py)",
     "output_type": "error",
     "traceback": [
      "\u001b[1;31m---------------------------------------------------------------------------\u001b[0m",
      "\u001b[1;31mImportError\u001b[0m                               Traceback (most recent call last)",
      "Cell \u001b[1;32mIn[7], line 2\u001b[0m\n\u001b[0;32m      1\u001b[0m \u001b[38;5;66;03m# Initialize the agent system\u001b[39;00m\n\u001b[1;32m----> 2\u001b[0m \u001b[38;5;28;01mfrom\u001b[39;00m\u001b[38;5;250m \u001b[39m\u001b[38;5;21;01mloop_live\u001b[39;00m\u001b[38;5;250m \u001b[39m\u001b[38;5;28;01mimport\u001b[39;00m initialize_agent, process_task\n\u001b[0;32m      4\u001b[0m \u001b[38;5;66;03m# Example task for the agent\u001b[39;00m\n\u001b[0;32m      5\u001b[0m example_task \u001b[38;5;241m=\u001b[39m \u001b[38;5;124m\"\u001b[39m\u001b[38;5;124mPlease analyze the current directory and list all Python files\u001b[39m\u001b[38;5;124m\"\u001b[39m\n",
      "\u001b[1;31mImportError\u001b[0m: cannot import name 'initialize_agent' from 'loop_live' (c:\\mygit\\BLazy\\loop_live.py)"
     ]
    }
   ],
   "source": [
    "# Initialize the agent system\n",
    "from loop_live import initialize_agent, process_task\n",
    "\n",
    "# Example task for the agent\n",
    "example_task = \"Please analyze the current directory and list all Python files\"\n",
    "\n",
    "# Process the task\n",
    "result = process_task(example_task)\n",
    "print(\"Agent response:\", result)\n"
   ]
  },
  {
   "cell_type": "markdown",
   "metadata": {},
   "source": [
    "## Tool Demonstration\n",
    "\n",
    "Let's demonstrate some of the specific tools available in the BLazy project:"
   ]
  },
  {
   "cell_type": "code",
   "execution_count": 8,
   "metadata": {},
   "outputs": [
    {
     "ename": "ModuleNotFoundError",
     "evalue": "No module named 'tools.file_operations'",
     "output_type": "error",
     "traceback": [
      "\u001b[1;31m---------------------------------------------------------------------------\u001b[0m",
      "\u001b[1;31mModuleNotFoundError\u001b[0m                       Traceback (most recent call last)",
      "Cell \u001b[1;32mIn[8], line 2\u001b[0m\n\u001b[0;32m      1\u001b[0m \u001b[38;5;66;03m# Import specific tools (example - adjust based on available tools)\u001b[39;00m\n\u001b[1;32m----> 2\u001b[0m \u001b[38;5;28;01mfrom\u001b[39;00m\u001b[38;5;250m \u001b[39m\u001b[38;5;21;01mtools\u001b[39;00m\u001b[38;5;21;01m.\u001b[39;00m\u001b[38;5;21;01mfile_operations\u001b[39;00m\u001b[38;5;250m \u001b[39m\u001b[38;5;28;01mimport\u001b[39;00m \u001b[38;5;241m*\u001b[39m\n\u001b[0;32m      3\u001b[0m \u001b[38;5;28;01mfrom\u001b[39;00m\u001b[38;5;250m \u001b[39m\u001b[38;5;21;01mtools\u001b[39;00m\u001b[38;5;21;01m.\u001b[39;00m\u001b[38;5;21;01mweb_tools\u001b[39;00m\u001b[38;5;250m \u001b[39m\u001b[38;5;28;01mimport\u001b[39;00m \u001b[38;5;241m*\u001b[39m\n\u001b[0;32m      5\u001b[0m \u001b[38;5;66;03m# Demonstrate file operations\u001b[39;00m\n",
      "\u001b[1;31mModuleNotFoundError\u001b[0m: No module named 'tools.file_operations'"
     ]
    }
   ],
   "source": [
    "# Import specific tools (example - adjust based on available tools)\n",
    "from tools.file_operations import *\n",
    "from tools.web_tools import *\n",
    "\n",
    "# Demonstrate file operations\n",
    "print(\"Demonstrating file operations...\")\n",
    "# Add specific tool demonstrations here\n"
   ]
  },
  {
   "cell_type": "markdown",
   "metadata": {},
   "source": [
    "## Advanced Usage Scenarios\n",
    "\n",
    "Now let's look at some more advanced usage scenarios of the BLazy system:"
   ]
  },
  {
   "cell_type": "code",
   "execution_count": null,
   "metadata": {},
   "outputs": [],
   "source": [
    "# Example of a more complex task chain\n",
    "tasks = [\n",
    "    \"Search for Python files in the current directory\",\n",
    "    \"Create a summary of their contents\",\n",
    "    \"Generate a report of the findings\"\n",
    "]\n",
    "\n",
    "for task in tasks:\n",
    "    print(f\"\\nExecuting task: {task}\")\n",
    "    result = process_task(task)\n",
    "    print(f\"Result: {result}\")\n"
   ]
  },
  {
   "cell_type": "markdown",
   "metadata": {},
   "source": [
    "## Error Handling and Debugging\n",
    "\n",
    "Let's examine how BLazy handles errors and provides debugging information:"
   ]
  },
  {
   "cell_type": "code",
   "execution_count": null,
   "metadata": {},
   "outputs": [],
   "source": [
    "# Example of error handling\n",
    "try:\n",
    "    # Attempt an operation that might fail\n",
    "    result = process_task(\"Invalid task that should trigger error handling\")\n",
    "except Exception as e:\n",
    "    print(f\"Error caught: {str(e)}\")\n",
    "    print(\"Error handling demonstration complete\")\n"
   ]
  },
  {
   "cell_type": "markdown",
   "metadata": {},
   "source": [
    "## Customization and Extension\n",
    "\n",
    "The BLazy project can be extended with custom tools and configurations:"
   ]
  },
  {
   "cell_type": "code",
   "execution_count": null,
   "metadata": {},
   "outputs": [],
   "source": [
    "# Example of adding a custom tool\n",
    "def custom_tool(input_data):\n",
    "    return f\"Processed: {input_data}\"\n",
    "\n",
    "# Register the custom tool (if the system supports this)\n",
    "# Add registration code here based on BLazy's architecture\n",
    "\n",
    "# Test the custom tool\n",
    "result = custom_tool(\"test data\")\n",
    "print(result)\n"
   ]
  },
  {
   "cell_type": "markdown",
   "metadata": {},
   "source": [
    "## Conclusion\n",
    "\n",
    "This notebook has demonstrated the key features and capabilities of the BLazy project, including:\n",
    "- Basic setup and configuration\n",
    "- Tool usage and integration\n",
    "- Agent interaction\n",
    "- Error handling\n",
    "- Customization options\n",
    "\n",
    "For more information, please refer to the project documentation and source code."
   ]
  }
 ],
 "metadata": {
  "kernelspec": {
   "display_name": ".venv (3.11.10)",
   "language": "python",
   "name": "python3"
  },
  "language_info": {
   "codemirror_mode": {
    "name": "ipython",
    "version": 3
   },
   "file_extension": ".py",
   "mimetype": "text/x-python",
   "name": "python",
   "nbconvert_exporter": "python",
   "pygments_lexer": "ipython3",
   "version": "3.11.10"
  }
 },
 "nbformat": 4,
 "nbformat_minor": 4
}
