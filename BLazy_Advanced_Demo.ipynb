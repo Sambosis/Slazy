{
 "cells": [
  {
   "cell_type": "markdown",
   "metadata": {},
   "source": [
    "# BLazy Advanced Project Demonstration\n",
    "\n",
    "This notebook demonstrates the advanced capabilities of the BLazy project, an agentic LLM-powered automation system using Anthropic's Claude API.\n",
    "\n",
    "## Initial Setup and Dependencies"
   ]
  },
  {
   "cell_type": "code",
   "execution_count": 2,
   "metadata": {},
   "outputs": [
    {
     "name": "stdout",
     "output_type": "stream",
     "text": [
      "Collecting anthropic\n",
      "  Using cached anthropic-0.45.2-py3-none-any.whl.metadata (23 kB)\n",
      "Requirement already satisfied: python-dotenv in c:\\users\\machine81\\appdata\\local\\pypoetry\\cache\\virtualenvs\\integuru-zbsmbxxg-py3.12\\lib\\site-packages (1.0.1)\n",
      "Requirement already satisfied: requests in c:\\users\\machine81\\appdata\\local\\pypoetry\\cache\\virtualenvs\\integuru-zbsmbxxg-py3.12\\lib\\site-packages (2.32.3)\n",
      "Collecting pandas\n",
      "  Using cached pandas-2.2.3-cp312-cp312-win_amd64.whl.metadata (19 kB)\n",
      "Requirement already satisfied: numpy in c:\\users\\machine81\\appdata\\local\\pypoetry\\cache\\virtualenvs\\integuru-zbsmbxxg-py3.12\\lib\\site-packages (2.1.1)\n",
      "Collecting rich\n",
      "  Using cached rich-13.9.4-py3-none-any.whl.metadata (18 kB)\n",
      "Collecting icecream\n",
      "  Using cached icecream-2.1.4-py3-none-any.whl.metadata (1.3 kB)\n",
      "Collecting ftfy\n",
      "  Using cached ftfy-6.3.1-py3-none-any.whl.metadata (7.3 kB)\n",
      "Requirement already satisfied: anyio<5,>=3.5.0 in c:\\users\\machine81\\appdata\\local\\pypoetry\\cache\\virtualenvs\\integuru-zbsmbxxg-py3.12\\lib\\site-packages (from anthropic) (4.4.0)\n",
      "Requirement already satisfied: distro<2,>=1.7.0 in c:\\users\\machine81\\appdata\\local\\pypoetry\\cache\\virtualenvs\\integuru-zbsmbxxg-py3.12\\lib\\site-packages (from anthropic) (1.9.0)\n",
      "Requirement already satisfied: httpx<1,>=0.23.0 in c:\\users\\machine81\\appdata\\local\\pypoetry\\cache\\virtualenvs\\integuru-zbsmbxxg-py3.12\\lib\\site-packages (from anthropic) (0.27.2)\n",
      "Requirement already satisfied: jiter<1,>=0.4.0 in c:\\users\\machine81\\appdata\\local\\pypoetry\\cache\\virtualenvs\\integuru-zbsmbxxg-py3.12\\lib\\site-packages (from anthropic) (0.5.0)\n",
      "Requirement already satisfied: pydantic<3,>=1.9.0 in c:\\users\\machine81\\appdata\\local\\pypoetry\\cache\\virtualenvs\\integuru-zbsmbxxg-py3.12\\lib\\site-packages (from anthropic) (2.9.2)\n",
      "Requirement already satisfied: sniffio in c:\\users\\machine81\\appdata\\local\\pypoetry\\cache\\virtualenvs\\integuru-zbsmbxxg-py3.12\\lib\\site-packages (from anthropic) (1.3.1)\n",
      "Requirement already satisfied: typing-extensions<5,>=4.10 in c:\\users\\machine81\\appdata\\local\\pypoetry\\cache\\virtualenvs\\integuru-zbsmbxxg-py3.12\\lib\\site-packages (from anthropic) (4.12.2)\n",
      "Requirement already satisfied: charset-normalizer<4,>=2 in c:\\users\\machine81\\appdata\\local\\pypoetry\\cache\\virtualenvs\\integuru-zbsmbxxg-py3.12\\lib\\site-packages (from requests) (3.3.2)\n",
      "Requirement already satisfied: idna<4,>=2.5 in c:\\users\\machine81\\appdata\\local\\pypoetry\\cache\\virtualenvs\\integuru-zbsmbxxg-py3.12\\lib\\site-packages (from requests) (3.10)\n",
      "Requirement already satisfied: urllib3<3,>=1.21.1 in c:\\users\\machine81\\appdata\\local\\pypoetry\\cache\\virtualenvs\\integuru-zbsmbxxg-py3.12\\lib\\site-packages (from requests) (2.2.3)\n",
      "Requirement already satisfied: certifi>=2017.4.17 in c:\\users\\machine81\\appdata\\local\\pypoetry\\cache\\virtualenvs\\integuru-zbsmbxxg-py3.12\\lib\\site-packages (from requests) (2024.8.30)\n",
      "Requirement already satisfied: python-dateutil>=2.8.2 in c:\\users\\machine81\\appdata\\local\\pypoetry\\cache\\virtualenvs\\integuru-zbsmbxxg-py3.12\\lib\\site-packages (from pandas) (2.9.0.post0)\n",
      "Collecting pytz>=2020.1 (from pandas)\n",
      "  Using cached pytz-2025.1-py2.py3-none-any.whl.metadata (22 kB)\n",
      "Collecting tzdata>=2022.7 (from pandas)\n",
      "  Using cached tzdata-2025.1-py2.py3-none-any.whl.metadata (1.4 kB)\n",
      "Collecting markdown-it-py>=2.2.0 (from rich)\n",
      "  Using cached markdown_it_py-3.0.0-py3-none-any.whl.metadata (6.9 kB)\n",
      "Requirement already satisfied: pygments<3.0.0,>=2.13.0 in c:\\users\\machine81\\appdata\\local\\pypoetry\\cache\\virtualenvs\\integuru-zbsmbxxg-py3.12\\lib\\site-packages (from rich) (2.18.0)\n",
      "Requirement already satisfied: colorama>=0.3.9 in c:\\users\\machine81\\appdata\\local\\pypoetry\\cache\\virtualenvs\\integuru-zbsmbxxg-py3.12\\lib\\site-packages (from icecream) (0.4.6)\n",
      "Requirement already satisfied: executing>=2.1.0 in c:\\users\\machine81\\appdata\\local\\pypoetry\\cache\\virtualenvs\\integuru-zbsmbxxg-py3.12\\lib\\site-packages (from icecream) (2.1.0)\n",
      "Requirement already satisfied: asttokens>=2.0.1 in c:\\users\\machine81\\appdata\\local\\pypoetry\\cache\\virtualenvs\\integuru-zbsmbxxg-py3.12\\lib\\site-packages (from icecream) (2.4.1)\n",
      "Requirement already satisfied: wcwidth in c:\\users\\machine81\\appdata\\local\\pypoetry\\cache\\virtualenvs\\integuru-zbsmbxxg-py3.12\\lib\\site-packages (from ftfy) (0.2.13)\n",
      "Requirement already satisfied: six>=1.12.0 in c:\\users\\machine81\\appdata\\local\\pypoetry\\cache\\virtualenvs\\integuru-zbsmbxxg-py3.12\\lib\\site-packages (from asttokens>=2.0.1->icecream) (1.16.0)\n",
      "Requirement already satisfied: httpcore==1.* in c:\\users\\machine81\\appdata\\local\\pypoetry\\cache\\virtualenvs\\integuru-zbsmbxxg-py3.12\\lib\\site-packages (from httpx<1,>=0.23.0->anthropic) (1.0.5)\n",
      "Requirement already satisfied: h11<0.15,>=0.13 in c:\\users\\machine81\\appdata\\local\\pypoetry\\cache\\virtualenvs\\integuru-zbsmbxxg-py3.12\\lib\\site-packages (from httpcore==1.*->httpx<1,>=0.23.0->anthropic) (0.14.0)\n",
      "Collecting mdurl~=0.1 (from markdown-it-py>=2.2.0->rich)\n",
      "  Using cached mdurl-0.1.2-py3-none-any.whl.metadata (1.6 kB)\n",
      "Requirement already satisfied: annotated-types>=0.6.0 in c:\\users\\machine81\\appdata\\local\\pypoetry\\cache\\virtualenvs\\integuru-zbsmbxxg-py3.12\\lib\\site-packages (from pydantic<3,>=1.9.0->anthropic) (0.7.0)\n",
      "Requirement already satisfied: pydantic-core==2.23.4 in c:\\users\\machine81\\appdata\\local\\pypoetry\\cache\\virtualenvs\\integuru-zbsmbxxg-py3.12\\lib\\site-packages (from pydantic<3,>=1.9.0->anthropic) (2.23.4)\n",
      "Using cached anthropic-0.45.2-py3-none-any.whl (222 kB)\n",
      "Using cached pandas-2.2.3-cp312-cp312-win_amd64.whl (11.5 MB)\n",
      "Using cached rich-13.9.4-py3-none-any.whl (242 kB)\n",
      "Using cached icecream-2.1.4-py3-none-any.whl (14 kB)\n",
      "Using cached ftfy-6.3.1-py3-none-any.whl (44 kB)\n",
      "Using cached markdown_it_py-3.0.0-py3-none-any.whl (87 kB)\n",
      "Using cached pytz-2025.1-py2.py3-none-any.whl (507 kB)\n",
      "Using cached tzdata-2025.1-py2.py3-none-any.whl (346 kB)\n",
      "Using cached mdurl-0.1.2-py3-none-any.whl (10.0 kB)\n",
      "Installing collected packages: pytz, tzdata, mdurl, ftfy, pandas, markdown-it-py, icecream, rich, anthropic\n",
      "Successfully installed anthropic-0.45.2 ftfy-6.3.1 icecream-2.1.4 markdown-it-py-3.0.0 mdurl-0.1.2 pandas-2.2.3 pytz-2025.1 rich-13.9.4 tzdata-2025.1\n"
     ]
    },
    {
     "name": "stderr",
     "output_type": "stream",
     "text": [
      "\n",
      "[notice] A new release of pip is available: 24.3.1 -> 25.0\n",
      "[notice] To update, run: python.exe -m pip install --upgrade pip\n"
     ]
    }
   ],
   "source": [
    "# Install required packages\n",
    "!pip install anthropic python-dotenv requests pandas numpy rich icecream ftfy\n"
   ]
  },
  {
   "cell_type": "markdown",
   "metadata": {},
   "source": [
    "## Environment Configuration\n",
    "\n",
    "First, we need to set up our environment and import the necessary modules from the BLazy project."
   ]
  },
  {
   "cell_type": "code",
   "execution_count": 1,
   "metadata": {},
   "outputs": [
    {
     "name": "stdout",
     "output_type": "stream",
     "text": [
      " Volume in drive C is Windows\n",
      " Volume Serial Number is 785E-89A5\n",
      "\n",
      " Directory of c:\\mygit\\BLazy\n",
      "\n",
      "02/03/2025  06:54 PM    <DIR>          .\n",
      "02/01/2025  02:23 AM    <DIR>          ..\n",
      "01/18/2025  01:49 AM    <DIR>          .devcontainer\n",
      "02/01/2025  09:34 PM               796 .env\n",
      "01/21/2025  01:19 PM               194 .gitignore\n",
      "01/05/2025  06:57 PM                 6 .python-version\n",
      "01/28/2025  08:51 PM    <DIR>          .venv\n",
      "01/29/2025  11:09 AM    <DIR>          .vscode\n",
      "02/03/2025  06:58 PM    <DIR>          __pycache__\n",
      "02/03/2025  06:59 PM            19,837 BLazy_Advanced_Demo.ipynb\n",
      "02/03/2025  06:59 PM            15,096 BLazy_Demo.ipynb\n",
      "01/20/2025  09:44 AM    <DIR>          cache\n",
      "02/03/2025  12:25 AM    <DIR>          computer_use_demo.egg-info\n",
      "02/02/2025  09:54 PM             7,703 config.py\n",
      "01/18/2025  08:50 PM    <DIR>          dist\n",
      "01/28/2025  08:55 PM    <DIR>          downloads\n",
      "02/02/2025  10:44 PM    <DIR>          ignore\n",
      "01/28/2025  08:53 PM    <DIR>          journal\n",
      "01/27/2025  06:55 PM             4,888 load_constants.py\n",
      "02/03/2025  06:58 PM    <DIR>          logs\n",
      "02/02/2025  10:13 PM            36,117 loop_live.py\n",
      "01/31/2025  10:11 PM    <DIR>          models\n",
      "01/28/2025  08:52 PM             7,414 mytest.ipynb\n",
      "02/03/2025  12:15 AM    <DIR>          prompts\n",
      "02/03/2025  12:16 AM             1,468 pyproject.toml\n",
      "01/18/2025  01:49 AM             2,327 README.md\n",
      "02/03/2025  01:30 AM    <DIR>          repo\n",
      "01/18/2025  06:24 PM               221 requirements.txt\n",
      "01/18/2025  01:49 AM    <DIR>          system_prompt\n",
      "01/29/2025  11:51 PM             3,248 test_code_tool.py\n",
      "01/24/2025  12:22 PM               578 test_env.py\n",
      "02/01/2025  09:06 PM    <DIR>          tools\n",
      "01/31/2025  10:11 PM               363 training.log\n",
      "01/27/2025  08:46 PM    <DIR>          utils\n",
      "02/03/2025  12:18 AM           244,493 uv.lock\n",
      "              16 File(s)        344,749 bytes\n",
      "              19 Dir(s)   4,938,964,992 bytes free\n"
     ]
    }
   ],
   "source": [
    "%ls\n"
   ]
  },
  {
   "cell_type": "code",
   "execution_count": 2,
   "metadata": {},
   "outputs": [],
   "source": [
    "import os\n",
    "import sys\n",
    "from pathlib import Path\n",
    "from dotenv import load_dotenv\n",
    "\n",
    "# Load environment variables\n",
    "load_dotenv()\n",
    "\n",
    "# Add the BLazy directory to the Python path\n",
    "blazy_path = os.path.join(os.path.dirname(os.getcwd()), 'BLazy')\n",
    "sys.path.append(blazy_path)\n",
    "\n",
    "# Import BLazy components\n",
    "from tools import (\n",
    "    BashTool,\n",
    "    EditTool,\n",
    "    GetExpertOpinionTool,\n",
    "    WindowsNavigationTool,\n",
    "    WebNavigatorTool,\n",
    "    ProjectSetupTool,\n",
    "    WriteCodeTool,\n",
    "    ToolCollection\n",
    ")\n",
    "from utils.agent_display import AgentDisplay\n",
    "from utils.output_manager import OutputManager\n"
   ]
  },
  {
   "cell_type": "markdown",
   "metadata": {},
   "source": [
    "## Tool Collection Setup\n",
    "\n",
    "BLazy provides a comprehensive set of tools for various automation tasks. Let's initialize them:"
   ]
  },
  {
   "cell_type": "code",
   "execution_count": 3,
   "metadata": {},
   "outputs": [
    {
     "name": "stdout",
     "output_type": "stream",
     "text": [
      "Available tools:\n",
      "bash, str_replace_editor, opinion, windows_navigate, web_navigator, project_setup, write_code\n"
     ]
    }
   ],
   "source": [
    "# Initialize display and tool collection\n",
    "display = AgentDisplay()\n",
    "tool_collection = ToolCollection(\n",
    "    BashTool(display=display),\n",
    "    EditTool(display=display),\n",
    "    GetExpertOpinionTool(),\n",
    "    WindowsNavigationTool(),\n",
    "    WebNavigatorTool(),\n",
    "    ProjectSetupTool(display=display),\n",
    "    WriteCodeTool(display=display),\n",
    "    display=display\n",
    ")\n",
    "\n",
    "# Display available tools\n",
    "print(\"Available tools:\")\n",
    "print(tool_collection.get_tool_names_as_string())\n"
   ]
  },
  {
   "cell_type": "markdown",
   "metadata": {},
   "source": [
    "## Tool Demonstrations\n",
    "\n",
    "### 1. Bash Tool - File System Operations"
   ]
  },
  {
   "cell_type": "code",
   "execution_count": null,
   "metadata": {},
   "outputs": [
    {
     "name": "stdout",
     "output_type": "stream",
     "text": [
      "Bash Tool Result:\n",
      "None\n"
     ]
    },
    {
     "name": "stderr",
     "output_type": "stream",
     "text": [
      "C:\\Users\\Machine81\\AppData\\Local\\Temp\\ipykernel_13764\\3338978317.py:3: RuntimeWarning: coroutine 'BashTool._run_command' was never awaited\n",
      "  result = await bash_tool._run_command({\"command\": \"dir\"})\n",
      "RuntimeWarning: Enable tracemalloc to get the object allocation traceback\n"
     ]
    }
   ],
   "source": [
    "# Example using BashTool\n",
    "bash_tool = BashTool(display=display)\n",
    "result = bash_tool.execute({\"command\": \"dir\"})\n",
    "print(\"Bash Tool Result:\")\n",
    "print(result.output if hasattr(result, 'output') else result)\n"
   ]
  },
  {
   "cell_type": "markdown",
   "metadata": {},
   "source": [
    "### 2. Windows Navigation Tool"
   ]
  },
  {
   "cell_type": "code",
   "execution_count": null,
   "metadata": {},
   "outputs": [],
   "source": [
    "# Example using WindowsNavigationTool\n",
    "windows_tool = WindowsNavigationTool()\n",
    "print(\"Available Windows Navigation Actions:\")\n",
    "for action in windows_tool.get_available_actions():\n",
    "    print(f\"- {action}\")\n"
   ]
  },
  {
   "cell_type": "markdown",
   "metadata": {},
   "source": [
    "### 3. Web Navigator Tool"
   ]
  },
  {
   "cell_type": "code",
   "execution_count": null,
   "metadata": {},
   "outputs": [],
   "source": [
    "# Example using WebNavigatorTool\n",
    "web_tool = WebNavigatorTool()\n",
    "result = web_tool.execute({\n",
    "    \"url\": \"https://github.com/sambosis/BLazy\",\n",
    "    \"action\": \"read\"\n",
    "})\n",
    "print(\"Web Navigation Result:\")\n",
    "print(result.output if hasattr(result, 'output') else result)\n"
   ]
  },
  {
   "cell_type": "markdown",
   "metadata": {},
   "source": [
    "### 4. Code Writing Tool"
   ]
  },
  {
   "cell_type": "code",
   "execution_count": null,
   "metadata": {},
   "outputs": [],
   "source": [
    "# Example using WriteCodeTool\n",
    "code_tool = WriteCodeTool(display=display)\n",
    "code_description = \"\"\"\n",
    "Python script that:\n",
    "1. Creates a simple function to process text\n",
    "2. Demonstrates error handling\n",
    "3. Includes logging\n",
    "\"\"\"\n",
    "\n",
    "result = code_tool.execute({\n",
    "    \"command\": \"write_and_exec\",\n",
    "    \"code_description\": code_description,\n",
    "    \"project_path\": os.getcwd()\n",
    "})\n",
    "print(\"Code Writing Result:\")\n",
    "print(result.output if hasattr(result, 'output') else result)\n"
   ]
  },
  {
   "cell_type": "markdown",
   "metadata": {},
   "source": [
    "### 5. Expert Opinion Tool"
   ]
  },
  {
   "cell_type": "code",
   "execution_count": null,
   "metadata": {},
   "outputs": [],
   "source": [
    "# Example using GetExpertOpinionTool\n",
    "expert_tool = GetExpertOpinionTool()\n",
    "result = expert_tool.execute({\n",
    "    \"command\": \"get_opinion\",\n",
    "    \"problem_description\": \"What are the best practices for implementing an agentic AI system?\"\n",
    "})\n",
    "print(\"Expert Opinion Result:\")\n",
    "print(result.output if hasattr(result, 'output') else result)\n"
   ]
  },
  {
   "cell_type": "markdown",
   "metadata": {},
   "source": [
    "## Advanced Usage: Combining Tools\n",
    "\n",
    "Now let's demonstrate how to combine multiple tools for more complex automation tasks:"
   ]
  },
  {
   "cell_type": "code",
   "execution_count": null,
   "metadata": {},
   "outputs": [],
   "source": [
    "async def complex_automation_task():\n",
    "    # 1. Use web navigator to get information\n",
    "    web_result = web_tool.execute({\n",
    "        \"url\": \"https://github.com/sambosis/BLazy\",\n",
    "        \"action\": \"extract_data\",\n",
    "        \"params\": {\"data_selector\": \".readme-content\"}\n",
    "    })\n",
    "    \n",
    "    # 2. Get expert opinion on the information\n",
    "    expert_result = expert_tool.execute({\n",
    "        \"command\": \"get_opinion\",\n",
    "        \"problem_description\": f\"Analyze this project description: {web_result.output}\"\n",
    "    })\n",
    "    \n",
    "    # 3. Generate code based on the analysis\n",
    "    code_result = code_tool.execute({\n",
    "        \"command\": \"write_code_to_file\",\n",
    "        \"code_description\": f\"Create a Python script based on this analysis: {expert_result.output}\",\n",
    "        \"project_path\": os.getcwd(),\n",
    "        \"python_filename\": \"generated_script.py\"\n",
    "    })\n",
    "    \n",
    "    return {\n",
    "        \"web_result\": web_result,\n",
    "        \"expert_analysis\": expert_result,\n",
    "        \"generated_code\": code_result\n",
    "    }\n",
    "\n",
    "# Execute the complex task\n",
    "import asyncio\n",
    "results = await complex_automation_task()\n",
    "print(\"Complex Automation Results:\")\n",
    "for key, value in results.items():\n",
    "    print(f\"\\n{key}:\")\n",
    "    print(value.output if hasattr(value, 'output') else value)\n"
   ]
  },
  {
   "cell_type": "markdown",
   "metadata": {},
   "source": [
    "## Token Usage Tracking\n",
    "\n",
    "BLazy includes built-in token tracking for monitoring API usage and costs:"
   ]
  },
  {
   "cell_type": "code",
   "execution_count": null,
   "metadata": {},
   "outputs": [],
   "source": [
    "from loop_live import TokenTracker\n",
    "\n",
    "# Initialize token tracker\n",
    "token_tracker = TokenTracker(display)\n",
    "\n",
    "# Display token usage statistics\n",
    "token_tracker.display(display)\n"
   ]
  },
  {
   "cell_type": "markdown",
   "metadata": {},
   "source": [
    "## Conclusion\n",
    "\n",
    "This notebook has demonstrated the advanced capabilities of BLazy, including:\n",
    "- Tool initialization and management\n",
    "- Individual tool usage\n",
    "- Complex multi-tool automation\n",
    "- Token usage tracking\n",
    "\n",
    "The system can be extended further by:\n",
    "1. Adding new tools to the ToolCollection\n",
    "2. Creating custom automation workflows\n",
    "3. Implementing additional error handling and logging\n",
    "4. Integrating with other APIs and services"
   ]
  }
 ],
 "metadata": {
  "kernelspec": {
   "display_name": ".venv (3.11.10)",
   "language": "python",
   "name": "python3"
  },
  "language_info": {
   "codemirror_mode": {
    "name": "ipython",
    "version": 3
   },
   "file_extension": ".py",
   "mimetype": "text/x-python",
   "name": "python",
   "nbconvert_exporter": "python",
   "pygments_lexer": "ipython3",
   "version": "3.11.10"
  }
 },
 "nbformat": 4,
 "nbformat_minor": 4
}
